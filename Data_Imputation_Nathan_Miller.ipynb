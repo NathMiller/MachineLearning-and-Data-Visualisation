{
  "nbformat": 4,
  "nbformat_minor": 0,
  "metadata": {
    "colab": {
      "provenance": []
    },
    "kernelspec": {
      "name": "python3",
      "display_name": "Python 3"
    },
    "language_info": {
      "name": "python"
    }
  },
  "cells": [
    {
      "cell_type": "code",
      "execution_count": 100,
      "metadata": {
        "id": "uj2F3J1tLHgx"
      },
      "outputs": [],
      "source": [
        "import random\n",
        "import pandas as pd\n",
        "import numpy as np\n",
        "import seaborn as sns\n",
        "from sklearn import preprocessing"
      ]
    },
    {
      "cell_type": "code",
      "source": [
        "housesMAR = pd.read_csv('https://raw.githubusercontent.com/PaoloMissier/CSC3831-2021-22/main/IMPUTATION/TARGET-DATASETS/CORRUPTED/HOUSES/houses_0.5_MAR.csv', header=0)"
      ],
      "metadata": {
        "id": "kl2ZzRn3LXq8"
      },
      "execution_count": 101,
      "outputs": []
    },
    {
      "cell_type": "code",
      "source": [
        "housesMAR.columns\n",
        "housesMAR.head()\n"
      ],
      "metadata": {
        "colab": {
          "base_uri": "https://localhost:8080/",
          "height": 206
        },
        "id": "qQOQfluKLiEF",
        "outputId": "7281f84d-c8c4-46cb-a055-e869d2ec091a"
      },
      "execution_count": 102,
      "outputs": [
        {
          "output_type": "execute_result",
          "data": {
            "text/plain": [
              "   Unnamed: 0  median_house_value  median_income  housing_median_age  \\\n",
              "0           0            452600.0         8.3252                41.0   \n",
              "1           1            358500.0         8.3014                21.0   \n",
              "2           2            352100.0         7.2574                52.0   \n",
              "3           3            341300.0         5.6431                52.0   \n",
              "4           4            342200.0         3.8462                52.0   \n",
              "\n",
              "   total_rooms  total_bedrooms  population  households  latitude  longitude  \n",
              "0        880.0           129.0         NaN       126.0     37.88    -122.23  \n",
              "1       7099.0          1106.0         NaN      1138.0     37.86    -122.22  \n",
              "2       1467.0           190.0         NaN       177.0     37.85    -122.24  \n",
              "3       1274.0           235.0         NaN       219.0     37.85    -122.25  \n",
              "4       1627.0           280.0       565.0       259.0     37.85    -122.25  "
            ],
            "text/html": [
              "\n",
              "  <div id=\"df-b07b458e-e2cf-42d3-bc08-15bea9f5a7e3\">\n",
              "    <div class=\"colab-df-container\">\n",
              "      <div>\n",
              "<style scoped>\n",
              "    .dataframe tbody tr th:only-of-type {\n",
              "        vertical-align: middle;\n",
              "    }\n",
              "\n",
              "    .dataframe tbody tr th {\n",
              "        vertical-align: top;\n",
              "    }\n",
              "\n",
              "    .dataframe thead th {\n",
              "        text-align: right;\n",
              "    }\n",
              "</style>\n",
              "<table border=\"1\" class=\"dataframe\">\n",
              "  <thead>\n",
              "    <tr style=\"text-align: right;\">\n",
              "      <th></th>\n",
              "      <th>Unnamed: 0</th>\n",
              "      <th>median_house_value</th>\n",
              "      <th>median_income</th>\n",
              "      <th>housing_median_age</th>\n",
              "      <th>total_rooms</th>\n",
              "      <th>total_bedrooms</th>\n",
              "      <th>population</th>\n",
              "      <th>households</th>\n",
              "      <th>latitude</th>\n",
              "      <th>longitude</th>\n",
              "    </tr>\n",
              "  </thead>\n",
              "  <tbody>\n",
              "    <tr>\n",
              "      <th>0</th>\n",
              "      <td>0</td>\n",
              "      <td>452600.0</td>\n",
              "      <td>8.3252</td>\n",
              "      <td>41.0</td>\n",
              "      <td>880.0</td>\n",
              "      <td>129.0</td>\n",
              "      <td>NaN</td>\n",
              "      <td>126.0</td>\n",
              "      <td>37.88</td>\n",
              "      <td>-122.23</td>\n",
              "    </tr>\n",
              "    <tr>\n",
              "      <th>1</th>\n",
              "      <td>1</td>\n",
              "      <td>358500.0</td>\n",
              "      <td>8.3014</td>\n",
              "      <td>21.0</td>\n",
              "      <td>7099.0</td>\n",
              "      <td>1106.0</td>\n",
              "      <td>NaN</td>\n",
              "      <td>1138.0</td>\n",
              "      <td>37.86</td>\n",
              "      <td>-122.22</td>\n",
              "    </tr>\n",
              "    <tr>\n",
              "      <th>2</th>\n",
              "      <td>2</td>\n",
              "      <td>352100.0</td>\n",
              "      <td>7.2574</td>\n",
              "      <td>52.0</td>\n",
              "      <td>1467.0</td>\n",
              "      <td>190.0</td>\n",
              "      <td>NaN</td>\n",
              "      <td>177.0</td>\n",
              "      <td>37.85</td>\n",
              "      <td>-122.24</td>\n",
              "    </tr>\n",
              "    <tr>\n",
              "      <th>3</th>\n",
              "      <td>3</td>\n",
              "      <td>341300.0</td>\n",
              "      <td>5.6431</td>\n",
              "      <td>52.0</td>\n",
              "      <td>1274.0</td>\n",
              "      <td>235.0</td>\n",
              "      <td>NaN</td>\n",
              "      <td>219.0</td>\n",
              "      <td>37.85</td>\n",
              "      <td>-122.25</td>\n",
              "    </tr>\n",
              "    <tr>\n",
              "      <th>4</th>\n",
              "      <td>4</td>\n",
              "      <td>342200.0</td>\n",
              "      <td>3.8462</td>\n",
              "      <td>52.0</td>\n",
              "      <td>1627.0</td>\n",
              "      <td>280.0</td>\n",
              "      <td>565.0</td>\n",
              "      <td>259.0</td>\n",
              "      <td>37.85</td>\n",
              "      <td>-122.25</td>\n",
              "    </tr>\n",
              "  </tbody>\n",
              "</table>\n",
              "</div>\n",
              "      <button class=\"colab-df-convert\" onclick=\"convertToInteractive('df-b07b458e-e2cf-42d3-bc08-15bea9f5a7e3')\"\n",
              "              title=\"Convert this dataframe to an interactive table.\"\n",
              "              style=\"display:none;\">\n",
              "        \n",
              "  <svg xmlns=\"http://www.w3.org/2000/svg\" height=\"24px\"viewBox=\"0 0 24 24\"\n",
              "       width=\"24px\">\n",
              "    <path d=\"M0 0h24v24H0V0z\" fill=\"none\"/>\n",
              "    <path d=\"M18.56 5.44l.94 2.06.94-2.06 2.06-.94-2.06-.94-.94-2.06-.94 2.06-2.06.94zm-11 1L8.5 8.5l.94-2.06 2.06-.94-2.06-.94L8.5 2.5l-.94 2.06-2.06.94zm10 10l.94 2.06.94-2.06 2.06-.94-2.06-.94-.94-2.06-.94 2.06-2.06.94z\"/><path d=\"M17.41 7.96l-1.37-1.37c-.4-.4-.92-.59-1.43-.59-.52 0-1.04.2-1.43.59L10.3 9.45l-7.72 7.72c-.78.78-.78 2.05 0 2.83L4 21.41c.39.39.9.59 1.41.59.51 0 1.02-.2 1.41-.59l7.78-7.78 2.81-2.81c.8-.78.8-2.07 0-2.86zM5.41 20L4 18.59l7.72-7.72 1.47 1.35L5.41 20z\"/>\n",
              "  </svg>\n",
              "      </button>\n",
              "      \n",
              "  <style>\n",
              "    .colab-df-container {\n",
              "      display:flex;\n",
              "      flex-wrap:wrap;\n",
              "      gap: 12px;\n",
              "    }\n",
              "\n",
              "    .colab-df-convert {\n",
              "      background-color: #E8F0FE;\n",
              "      border: none;\n",
              "      border-radius: 50%;\n",
              "      cursor: pointer;\n",
              "      display: none;\n",
              "      fill: #1967D2;\n",
              "      height: 32px;\n",
              "      padding: 0 0 0 0;\n",
              "      width: 32px;\n",
              "    }\n",
              "\n",
              "    .colab-df-convert:hover {\n",
              "      background-color: #E2EBFA;\n",
              "      box-shadow: 0px 1px 2px rgba(60, 64, 67, 0.3), 0px 1px 3px 1px rgba(60, 64, 67, 0.15);\n",
              "      fill: #174EA6;\n",
              "    }\n",
              "\n",
              "    [theme=dark] .colab-df-convert {\n",
              "      background-color: #3B4455;\n",
              "      fill: #D2E3FC;\n",
              "    }\n",
              "\n",
              "    [theme=dark] .colab-df-convert:hover {\n",
              "      background-color: #434B5C;\n",
              "      box-shadow: 0px 1px 3px 1px rgba(0, 0, 0, 0.15);\n",
              "      filter: drop-shadow(0px 1px 2px rgba(0, 0, 0, 0.3));\n",
              "      fill: #FFFFFF;\n",
              "    }\n",
              "  </style>\n",
              "\n",
              "      <script>\n",
              "        const buttonEl =\n",
              "          document.querySelector('#df-b07b458e-e2cf-42d3-bc08-15bea9f5a7e3 button.colab-df-convert');\n",
              "        buttonEl.style.display =\n",
              "          google.colab.kernel.accessAllowed ? 'block' : 'none';\n",
              "\n",
              "        async function convertToInteractive(key) {\n",
              "          const element = document.querySelector('#df-b07b458e-e2cf-42d3-bc08-15bea9f5a7e3');\n",
              "          const dataTable =\n",
              "            await google.colab.kernel.invokeFunction('convertToInteractive',\n",
              "                                                     [key], {});\n",
              "          if (!dataTable) return;\n",
              "\n",
              "          const docLinkHtml = 'Like what you see? Visit the ' +\n",
              "            '<a target=\"_blank\" href=https://colab.research.google.com/notebooks/data_table.ipynb>data table notebook</a>'\n",
              "            + ' to learn more about interactive tables.';\n",
              "          element.innerHTML = '';\n",
              "          dataTable['output_type'] = 'display_data';\n",
              "          await google.colab.output.renderOutput(dataTable, element);\n",
              "          const docLink = document.createElement('div');\n",
              "          docLink.innerHTML = docLinkHtml;\n",
              "          element.appendChild(docLink);\n",
              "        }\n",
              "      </script>\n",
              "    </div>\n",
              "  </div>\n",
              "  "
            ]
          },
          "metadata": {},
          "execution_count": 102
        }
      ]
    },
    {
      "cell_type": "markdown",
      "source": [
        "# Find out where the data is missing"
      ],
      "metadata": {
        "id": "Uym98DNBNuiS"
      }
    },
    {
      "cell_type": "code",
      "source": [
        "print(\"Missing values in Median House Value: {0:.3}%\".format(housesMAR['median_house_value'].isnull().sum() / len(housesMAR) * 100) )\n",
        "print(\"Missing values in Median Income: {0:.3}%\".format(housesMAR['median_income'].isnull().sum() / len(housesMAR) * 100) )\n",
        "print(\"Missing values in Median House Age: {0:.3}%\".format(housesMAR['housing_median_age'].isnull().sum() / len(housesMAR) * 100) )\n",
        "print(\"Missing values in Total Rooms: {0:.3}%\".format(housesMAR['total_rooms'].isnull().sum() / len(housesMAR) * 100) )\n",
        "print(\"Missing values in Total Bedrooms: {0:.3}%\".format(housesMAR['total_bedrooms'].isnull().sum() / len(housesMAR) * 100) )\n",
        "print(\"Missing values in Population: {0:.3}%\".format(housesMAR['population'].isnull().sum() / len(housesMAR) * 100) )\n",
        "print(\"Missing values in Households: {0:.3}%\".format(housesMAR['households'].isnull().sum() / len(housesMAR) * 100) )\n",
        "print(\"Missing values in Latitude: {0:.3}%\".format(housesMAR['latitude'].isnull().sum() / len(housesMAR) * 100) )\n",
        "print(\"Missing values in Longitude: {0:.3}%\".format(housesMAR['longitude'].isnull().sum() / len(housesMAR) * 100) )\n",
        "\n"
      ],
      "metadata": {
        "colab": {
          "base_uri": "https://localhost:8080/"
        },
        "id": "9s_mZUB9MliD",
        "outputId": "529618c7-af38-4afe-c396-3412ee46ba69"
      },
      "execution_count": 103,
      "outputs": [
        {
          "output_type": "stream",
          "name": "stdout",
          "text": [
            "Missing values in Median House Value: 0.0%\n",
            "Missing values in Median Income: 50.0%\n",
            "Missing values in Median House Age: 50.0%\n",
            "Missing values in Total Rooms: 0.0%\n",
            "Missing values in Total Bedrooms: 0.0%\n",
            "Missing values in Population: 50.0%\n",
            "Missing values in Households: 0.0%\n",
            "Missing values in Latitude: 0.0%\n",
            "Missing values in Longitude: 0.0%\n"
          ]
        }
      ]
    },
    {
      "cell_type": "markdown",
      "source": [
        "Missing data in median income, median house age, and population."
      ],
      "metadata": {
        "id": "34fHlP2xOAbr"
      }
    },
    {
      "cell_type": "markdown",
      "source": [
        "# KNN Imputation"
      ],
      "metadata": {
        "id": "npYs-9NhOHbq"
      }
    },
    {
      "cell_type": "code",
      "source": [
        "from sklearn.impute import KNNImputer\n",
        "\n",
        "#dfc = housesMAR.drop(['housing_median_age', 'population'], axis='columns')\n",
        "\n",
        "#dfc = housesMAR.dropna(subset=['median_income'])\n",
        "\n",
        "#c = [c for c in housesMAR.columns if c!= 'median_income']\n",
        "#x1 = housesMAR[housesMAR['median_income'].notnull()].loc[:, c].values\n",
        "#y1 = housesMAR[housesMAR['median_income'].notnull()]['median_income'].values\n",
        "#z1 = housesMAR[housesMAR['median_income'].isnull()]['median_income'].values\n",
        "\n",
        "imputer = KNNImputer(n_neighbors = 20)\n",
        "imputed = imputer.fit_transform(housesMAR)\n",
        "\n",
        "new_data_knn = pd.DataFrame(data = imputed, columns = housesMAR.columns)\n",
        "new_data_knn.describe()['median_house_value']"
      ],
      "metadata": {
        "colab": {
          "base_uri": "https://localhost:8080/"
        },
        "id": "JLaLX0gxOF2a",
        "outputId": "c5085ba5-ca3e-4dbe-fa70-848a6c7ea1cf"
      },
      "execution_count": 104,
      "outputs": [
        {
          "output_type": "execute_result",
          "data": {
            "text/plain": [
              "count     20640.000000\n",
              "mean     206855.816909\n",
              "std      115395.615874\n",
              "min       14999.000000\n",
              "25%      119600.000000\n",
              "50%      179700.000000\n",
              "75%      264725.000000\n",
              "max      500001.000000\n",
              "Name: median_house_value, dtype: float64"
            ]
          },
          "metadata": {},
          "execution_count": 104
        }
      ]
    },
    {
      "cell_type": "code",
      "source": [
        "print(\"Missing values in Median Income: {0:.3}%\".format(new_data_knn['median_income'].isnull().sum() / len(new_data_knn) * 100) )\n",
        "print(\"Missing values in Median House Age: {0:.3}%\".format(new_data_knn['housing_median_age'].isnull().sum() / len(new_data_knn) * 100) )\n",
        "print(\"Missing values in Population: {0:.3}%\".format(new_data_knn['population'].isnull().sum() / len(new_data_knn) * 100) )"
      ],
      "metadata": {
        "colab": {
          "base_uri": "https://localhost:8080/"
        },
        "id": "N1pFOmJpbrDT",
        "outputId": "ffbefd1e-720e-4d86-f890-39197c2cfad5"
      },
      "execution_count": 105,
      "outputs": [
        {
          "output_type": "stream",
          "name": "stdout",
          "text": [
            "Missing values in Median Income: 0.0%\n",
            "Missing values in Median House Age: 0.0%\n",
            "Missing values in Population: 0.0%\n"
          ]
        }
      ]
    },
    {
      "cell_type": "markdown",
      "source": [
        "# Model M1 (KNN)"
      ],
      "metadata": {
        "id": "0LN7jiTOmrY1"
      }
    },
    {
      "cell_type": "code",
      "source": [
        "from sklearn.model_selection import train_test_split\n",
        "from sklearn.linear_model import LinearRegression\n",
        "from sklearn.metrics import mean_squared_error\n",
        "\n",
        "y = new_data_knn.median_house_value\n",
        "x = new_data_knn.drop('median_house_value', axis=1)\n",
        "\n",
        "x_train, x_test, y_train, y_test = train_test_split(x, y, test_size = 0.2)\n",
        "\n",
        "lr = LinearRegression()\n",
        "lr.fit(x_train, y_train)\n",
        "\n",
        "pred = lr.predict(x_test)\n",
        "\n",
        "knn_r2 = lr.score(x_test, y_test)\n",
        "MSE = mean_squared_error(y_test, pred)\n",
        "knn_RMSE = np.sqrt(MSE)\n",
        "\n",
        "print(\"Root Mean squared error: %.2f\" % knn_RMSE)\n",
        "print(\"R^2 value: \" , knn_r2)\n"
      ],
      "metadata": {
        "colab": {
          "base_uri": "https://localhost:8080/"
        },
        "id": "JZioRPLhmvql",
        "outputId": "e39f3034-8b74-4616-efa1-8cd982e485af"
      },
      "execution_count": 106,
      "outputs": [
        {
          "output_type": "stream",
          "name": "stdout",
          "text": [
            "Root Mean squared error: 58413.12\n",
            "R^2 value:  0.7481774952084495\n"
          ]
        }
      ]
    },
    {
      "cell_type": "markdown",
      "source": [
        "# MICE "
      ],
      "metadata": {
        "id": "chs0SKoXoNyM"
      }
    },
    {
      "cell_type": "code",
      "source": [
        "print(\"Missing values in Median Income: {0:.3}%\".format(housesMAR['median_income'].isnull().sum() / len(housesMAR) * 100) )\n",
        "print(\"Missing values in Median House Age: {0:.3}%\".format(housesMAR['housing_median_age'].isnull().sum() / len(housesMAR) * 100) )\n",
        "print(\"Missing values in Population: {0:.3}%\".format(housesMAR['population'].isnull().sum() / len(housesMAR) * 100) )"
      ],
      "metadata": {
        "colab": {
          "base_uri": "https://localhost:8080/"
        },
        "id": "5dg_Dmb7p9dL",
        "outputId": "20a26bb0-323a-40e7-c4da-7ad3deaaf11b"
      },
      "execution_count": 107,
      "outputs": [
        {
          "output_type": "stream",
          "name": "stdout",
          "text": [
            "Missing values in Median Income: 50.0%\n",
            "Missing values in Median House Age: 50.0%\n",
            "Missing values in Population: 50.0%\n"
          ]
        }
      ]
    },
    {
      "cell_type": "code",
      "source": [
        "from sklearn.experimental import enable_iterative_imputer\n",
        "from sklearn.impute import IterativeImputer\n",
        "\n",
        "imputer = IterativeImputer()\n",
        "imputed = imputer.fit_transform(housesMAR)\n",
        "\n",
        "new_data_MICE = pd.DataFrame(data= imputed, columns=housesMAR.columns)\n",
        "new_data_MICE.head()"
      ],
      "metadata": {
        "colab": {
          "base_uri": "https://localhost:8080/",
          "height": 206
        },
        "id": "7_W3g9JLoVDj",
        "outputId": "84b4c01a-b270-408a-e17d-0a7ee0589064"
      },
      "execution_count": 108,
      "outputs": [
        {
          "output_type": "execute_result",
          "data": {
            "text/plain": [
              "   Unnamed: 0  median_house_value  median_income  housing_median_age  \\\n",
              "0         0.0            452600.0         8.3252                41.0   \n",
              "1         1.0            358500.0         8.3014                21.0   \n",
              "2         2.0            352100.0         7.2574                52.0   \n",
              "3         3.0            341300.0         5.6431                52.0   \n",
              "4         4.0            342200.0         3.8462                52.0   \n",
              "\n",
              "   total_rooms  total_bedrooms   population  households  latitude  longitude  \n",
              "0        880.0           129.0   -96.195769       126.0     37.88    -122.23  \n",
              "1       7099.0          1106.0  3155.159757      1138.0     37.86    -122.22  \n",
              "2       1467.0           190.0   224.192024       177.0     37.85    -122.24  \n",
              "3       1274.0           235.0   302.242675       219.0     37.85    -122.25  \n",
              "4       1627.0           280.0   565.000000       259.0     37.85    -122.25  "
            ],
            "text/html": [
              "\n",
              "  <div id=\"df-f74df831-a073-4193-af96-d978d405bb52\">\n",
              "    <div class=\"colab-df-container\">\n",
              "      <div>\n",
              "<style scoped>\n",
              "    .dataframe tbody tr th:only-of-type {\n",
              "        vertical-align: middle;\n",
              "    }\n",
              "\n",
              "    .dataframe tbody tr th {\n",
              "        vertical-align: top;\n",
              "    }\n",
              "\n",
              "    .dataframe thead th {\n",
              "        text-align: right;\n",
              "    }\n",
              "</style>\n",
              "<table border=\"1\" class=\"dataframe\">\n",
              "  <thead>\n",
              "    <tr style=\"text-align: right;\">\n",
              "      <th></th>\n",
              "      <th>Unnamed: 0</th>\n",
              "      <th>median_house_value</th>\n",
              "      <th>median_income</th>\n",
              "      <th>housing_median_age</th>\n",
              "      <th>total_rooms</th>\n",
              "      <th>total_bedrooms</th>\n",
              "      <th>population</th>\n",
              "      <th>households</th>\n",
              "      <th>latitude</th>\n",
              "      <th>longitude</th>\n",
              "    </tr>\n",
              "  </thead>\n",
              "  <tbody>\n",
              "    <tr>\n",
              "      <th>0</th>\n",
              "      <td>0.0</td>\n",
              "      <td>452600.0</td>\n",
              "      <td>8.3252</td>\n",
              "      <td>41.0</td>\n",
              "      <td>880.0</td>\n",
              "      <td>129.0</td>\n",
              "      <td>-96.195769</td>\n",
              "      <td>126.0</td>\n",
              "      <td>37.88</td>\n",
              "      <td>-122.23</td>\n",
              "    </tr>\n",
              "    <tr>\n",
              "      <th>1</th>\n",
              "      <td>1.0</td>\n",
              "      <td>358500.0</td>\n",
              "      <td>8.3014</td>\n",
              "      <td>21.0</td>\n",
              "      <td>7099.0</td>\n",
              "      <td>1106.0</td>\n",
              "      <td>3155.159757</td>\n",
              "      <td>1138.0</td>\n",
              "      <td>37.86</td>\n",
              "      <td>-122.22</td>\n",
              "    </tr>\n",
              "    <tr>\n",
              "      <th>2</th>\n",
              "      <td>2.0</td>\n",
              "      <td>352100.0</td>\n",
              "      <td>7.2574</td>\n",
              "      <td>52.0</td>\n",
              "      <td>1467.0</td>\n",
              "      <td>190.0</td>\n",
              "      <td>224.192024</td>\n",
              "      <td>177.0</td>\n",
              "      <td>37.85</td>\n",
              "      <td>-122.24</td>\n",
              "    </tr>\n",
              "    <tr>\n",
              "      <th>3</th>\n",
              "      <td>3.0</td>\n",
              "      <td>341300.0</td>\n",
              "      <td>5.6431</td>\n",
              "      <td>52.0</td>\n",
              "      <td>1274.0</td>\n",
              "      <td>235.0</td>\n",
              "      <td>302.242675</td>\n",
              "      <td>219.0</td>\n",
              "      <td>37.85</td>\n",
              "      <td>-122.25</td>\n",
              "    </tr>\n",
              "    <tr>\n",
              "      <th>4</th>\n",
              "      <td>4.0</td>\n",
              "      <td>342200.0</td>\n",
              "      <td>3.8462</td>\n",
              "      <td>52.0</td>\n",
              "      <td>1627.0</td>\n",
              "      <td>280.0</td>\n",
              "      <td>565.000000</td>\n",
              "      <td>259.0</td>\n",
              "      <td>37.85</td>\n",
              "      <td>-122.25</td>\n",
              "    </tr>\n",
              "  </tbody>\n",
              "</table>\n",
              "</div>\n",
              "      <button class=\"colab-df-convert\" onclick=\"convertToInteractive('df-f74df831-a073-4193-af96-d978d405bb52')\"\n",
              "              title=\"Convert this dataframe to an interactive table.\"\n",
              "              style=\"display:none;\">\n",
              "        \n",
              "  <svg xmlns=\"http://www.w3.org/2000/svg\" height=\"24px\"viewBox=\"0 0 24 24\"\n",
              "       width=\"24px\">\n",
              "    <path d=\"M0 0h24v24H0V0z\" fill=\"none\"/>\n",
              "    <path d=\"M18.56 5.44l.94 2.06.94-2.06 2.06-.94-2.06-.94-.94-2.06-.94 2.06-2.06.94zm-11 1L8.5 8.5l.94-2.06 2.06-.94-2.06-.94L8.5 2.5l-.94 2.06-2.06.94zm10 10l.94 2.06.94-2.06 2.06-.94-2.06-.94-.94-2.06-.94 2.06-2.06.94z\"/><path d=\"M17.41 7.96l-1.37-1.37c-.4-.4-.92-.59-1.43-.59-.52 0-1.04.2-1.43.59L10.3 9.45l-7.72 7.72c-.78.78-.78 2.05 0 2.83L4 21.41c.39.39.9.59 1.41.59.51 0 1.02-.2 1.41-.59l7.78-7.78 2.81-2.81c.8-.78.8-2.07 0-2.86zM5.41 20L4 18.59l7.72-7.72 1.47 1.35L5.41 20z\"/>\n",
              "  </svg>\n",
              "      </button>\n",
              "      \n",
              "  <style>\n",
              "    .colab-df-container {\n",
              "      display:flex;\n",
              "      flex-wrap:wrap;\n",
              "      gap: 12px;\n",
              "    }\n",
              "\n",
              "    .colab-df-convert {\n",
              "      background-color: #E8F0FE;\n",
              "      border: none;\n",
              "      border-radius: 50%;\n",
              "      cursor: pointer;\n",
              "      display: none;\n",
              "      fill: #1967D2;\n",
              "      height: 32px;\n",
              "      padding: 0 0 0 0;\n",
              "      width: 32px;\n",
              "    }\n",
              "\n",
              "    .colab-df-convert:hover {\n",
              "      background-color: #E2EBFA;\n",
              "      box-shadow: 0px 1px 2px rgba(60, 64, 67, 0.3), 0px 1px 3px 1px rgba(60, 64, 67, 0.15);\n",
              "      fill: #174EA6;\n",
              "    }\n",
              "\n",
              "    [theme=dark] .colab-df-convert {\n",
              "      background-color: #3B4455;\n",
              "      fill: #D2E3FC;\n",
              "    }\n",
              "\n",
              "    [theme=dark] .colab-df-convert:hover {\n",
              "      background-color: #434B5C;\n",
              "      box-shadow: 0px 1px 3px 1px rgba(0, 0, 0, 0.15);\n",
              "      filter: drop-shadow(0px 1px 2px rgba(0, 0, 0, 0.3));\n",
              "      fill: #FFFFFF;\n",
              "    }\n",
              "  </style>\n",
              "\n",
              "      <script>\n",
              "        const buttonEl =\n",
              "          document.querySelector('#df-f74df831-a073-4193-af96-d978d405bb52 button.colab-df-convert');\n",
              "        buttonEl.style.display =\n",
              "          google.colab.kernel.accessAllowed ? 'block' : 'none';\n",
              "\n",
              "        async function convertToInteractive(key) {\n",
              "          const element = document.querySelector('#df-f74df831-a073-4193-af96-d978d405bb52');\n",
              "          const dataTable =\n",
              "            await google.colab.kernel.invokeFunction('convertToInteractive',\n",
              "                                                     [key], {});\n",
              "          if (!dataTable) return;\n",
              "\n",
              "          const docLinkHtml = 'Like what you see? Visit the ' +\n",
              "            '<a target=\"_blank\" href=https://colab.research.google.com/notebooks/data_table.ipynb>data table notebook</a>'\n",
              "            + ' to learn more about interactive tables.';\n",
              "          element.innerHTML = '';\n",
              "          dataTable['output_type'] = 'display_data';\n",
              "          await google.colab.output.renderOutput(dataTable, element);\n",
              "          const docLink = document.createElement('div');\n",
              "          docLink.innerHTML = docLinkHtml;\n",
              "          element.appendChild(docLink);\n",
              "        }\n",
              "      </script>\n",
              "    </div>\n",
              "  </div>\n",
              "  "
            ]
          },
          "metadata": {},
          "execution_count": 108
        }
      ]
    },
    {
      "cell_type": "code",
      "source": [
        "print(\"Missing values in Median Income: {0:.3}%\".format(new_data_MICE['median_income'].isnull().sum() / len(new_data_MICE) * 100) )\n",
        "print(\"Missing values in Median House Age: {0:.3}%\".format(new_data_MICE['housing_median_age'].isnull().sum() / len(new_data_MICE) * 100) )\n",
        "print(\"Missing values in Population: {0:.3}%\".format(new_data_MICE['population'].isnull().sum() / len(new_data_MICE) * 100) )"
      ],
      "metadata": {
        "colab": {
          "base_uri": "https://localhost:8080/"
        },
        "id": "ISnvRW6gqoob",
        "outputId": "2148de49-a553-476e-cc41-7cf741e6b7df"
      },
      "execution_count": 109,
      "outputs": [
        {
          "output_type": "stream",
          "name": "stdout",
          "text": [
            "Missing values in Median Income: 0.0%\n",
            "Missing values in Median House Age: 0.0%\n",
            "Missing values in Population: 0.0%\n"
          ]
        }
      ]
    },
    {
      "cell_type": "markdown",
      "source": [
        "# Model M2 (MICE)"
      ],
      "metadata": {
        "id": "pZoMl6eeqt7a"
      }
    },
    {
      "cell_type": "code",
      "source": [
        "y = new_data_MICE.median_house_value\n",
        "x = new_data_MICE.drop('median_house_value', axis=1)\n",
        "\n",
        "x_train, x_test, y_train, y_test = train_test_split(x, y, test_size = 0.2)\n",
        "\n",
        "lr = LinearRegression()\n",
        "lr.fit(x_train, y_train)\n",
        "\n",
        "pred = lr.predict(x_test)\n",
        "\n",
        "mice_r2 = lr.score(x_test, y_test)\n",
        "MSE = mean_squared_error(y_test, pred)\n",
        "mice_RMSE = np.sqrt(MSE)\n",
        "\n",
        "print(\"Root Mean squared error: %.2f\" % mice_RMSE)\n",
        "print(\"R^2 value: \" , mice_r2)\n"
      ],
      "metadata": {
        "colab": {
          "base_uri": "https://localhost:8080/"
        },
        "id": "FSvg94kkqyRi",
        "outputId": "87b35cb0-285a-4860-add3-0cefd656521e"
      },
      "execution_count": 110,
      "outputs": [
        {
          "output_type": "stream",
          "name": "stdout",
          "text": [
            "Root Mean squared error: 56490.69\n",
            "R^2 value:  0.7663273135531401\n"
          ]
        }
      ]
    },
    {
      "cell_type": "markdown",
      "source": [
        "# Comparing M1 and M2"
      ],
      "metadata": {
        "id": "9AbIkyNerZIa"
      }
    },
    {
      "cell_type": "code",
      "source": [
        "print(\"Original data details\")\n",
        "print(housesMAR.describe()[['median_income', 'housing_median_age', 'population']])\n",
        "print(\"------------------------------------------------------------------------\")\n",
        "print(\"KNN details\")\n",
        "print(new_data_knn.describe()[['median_income', 'housing_median_age', 'population']])\n",
        "print(\" \")\n",
        "print(\"Linear Regression R^2 score: %.2f\" % knn_RMSE)\n",
        "print(\"Linear Regression RMSE value: \", knn_r2)\n",
        "print(\"------------------------------------------------------------------------\")\n",
        "print(\"MICE details\")\n",
        "print(new_data_MICE.describe()[['median_income', 'housing_median_age', 'population']])\n",
        "print(\" \")\n",
        "print(\"Linear Regression R^2 score: %.2f\" % mice_RMSE)\n",
        "print(\"Linear Regression RMSE value: \", mice_r2)"
      ],
      "metadata": {
        "colab": {
          "base_uri": "https://localhost:8080/"
        },
        "id": "5FIPnNukrrHy",
        "outputId": "11697ebf-489c-431f-aba8-085d50a815b6"
      },
      "execution_count": 111,
      "outputs": [
        {
          "output_type": "stream",
          "name": "stdout",
          "text": [
            "Original data details\n",
            "       median_income  housing_median_age    population\n",
            "count   10320.000000        10320.000000  10320.000000\n",
            "mean        3.940372           27.649128   1352.802229\n",
            "std         1.915848           13.294325   1074.226167\n",
            "min         0.499900            1.000000      5.000000\n",
            "25%         2.603300           17.000000    748.000000\n",
            "50%         3.601950           26.000000   1127.000000\n",
            "75%         4.835600           37.000000   1654.000000\n",
            "max        15.000100           52.000000  35682.000000\n",
            "------------------------------------------------------------------------\n",
            "KNN details\n",
            "       median_income  housing_median_age    population\n",
            "count   20640.000000        20640.000000  20640.000000\n",
            "mean        3.972498           27.219268   1255.249784\n",
            "std         1.735207           10.027778    833.730722\n",
            "min         0.499900            1.000000      5.000000\n",
            "25%         2.808376           21.000000    852.187500\n",
            "50%         3.671900           26.600000   1089.700000\n",
            "75%         4.733060           32.150000   1401.000000\n",
            "max        15.000100           52.000000  35682.000000\n",
            " \n",
            "Linear Regression R^2 score: 58413.12\n",
            "Linear Regression RMSE value:  0.7481774952084495\n",
            "------------------------------------------------------------------------\n",
            "MICE details\n",
            "       median_income  housing_median_age    population\n",
            "count   20640.000000        20640.000000  20640.000000\n",
            "mean        3.926759           26.920553   1345.286691\n",
            "std         1.777002           10.162442   1086.386842\n",
            "min        -5.723311          -54.050221   -713.073806\n",
            "25%         2.730422           21.000000    749.949542\n",
            "50%         3.611800           27.000000   1105.122432\n",
            "75%         4.763900           31.000000   1622.460999\n",
            "max        15.861821           52.000000  35682.000000\n",
            " \n",
            "Linear Regression R^2 score: 56490.69\n",
            "Linear Regression RMSE value:  0.7663273135531401\n"
          ]
        }
      ]
    },
    {
      "cell_type": "markdown",
      "source": [
        "# Conclusions\n",
        "\n",
        "If I was to just look at the results of the linear regression, I would say that the KNN imputation and MICE produce very similar results and there is no need to argue for one over the other. However, if we were to look at the results of the imputation on the columns as a whole, we can see stark differences between them. By looking at the minimum value for each column, we can see that MICE has produced negative values for income, house age, and population. This is something that we know is impossible when looking at the data ourselves, but the program does not understand that there cannot be negative values for these. Whereas KNN on the other hand has not produced any values lower than what was already in the data with the missing values. \n",
        "\n",
        "I believe that this is because KNN looks at the nearest neighbours with values in the data, whereas MICE considers all features using a round robin approach. Due to this, I believe that it was affected by the longitude and latitude features as these are the only ones that could introduce negative numbers into the results. However, the inclusion of negative results has not impacted the other details as badly. The mean, standard deviation, and interquartile range are all in the same area as KNN and the original data (which would be due to a higehr maximum value), so the linear regression will still produce similar results. \n",
        "\n",
        "If I had to choose one, I would still go for KNN imputation because while it is not creating definitively correct data, I know that it is closer to the actual values than any negative value created by MICE. Having similar linear regression scores does not matter if we know that the data within the dataframe is dubious and cannot be true in the given context. "
      ],
      "metadata": {
        "id": "tPCOJhbRwV2v"
      }
    }
  ]
}