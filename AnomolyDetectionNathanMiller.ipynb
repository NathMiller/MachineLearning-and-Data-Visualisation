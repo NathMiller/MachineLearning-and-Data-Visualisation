{
  "cells": [
    {
      "cell_type": "code",
      "execution_count": 108,
      "metadata": {
        "id": "PzYbNv6GUbKd"
      },
      "outputs": [],
      "source": [
        "import random\n",
        "import pandas as pd\n",
        "import numpy as np\n",
        "import seaborn as sns\n",
        "from sklearn import preprocessing"
      ]
    },
    {
      "cell_type": "code",
      "execution_count": 109,
      "metadata": {
        "id": "PgxzmRlvUbKf"
      },
      "outputs": [],
      "source": [
        "houses = pd.read_csv('https://raw.githubusercontent.com/PaoloMissier/CSC3831-2021-22/main/IMPUTATION/TARGET-DATASETS/ORIGINAL/houses.csv', header=0)"
      ]
    },
    {
      "cell_type": "code",
      "execution_count": 110,
      "metadata": {
        "id": "s6Zpa-ivUbKg"
      },
      "outputs": [],
      "source": [
        "## distribution of each numeric colum"
      ]
    },
    {
      "cell_type": "code",
      "execution_count": 111,
      "metadata": {
        "id": "kNFo4aBRUbKg",
        "outputId": "29c1fbda-3d12-4790-924f-2a3f6eb41a8c",
        "colab": {
          "base_uri": "https://localhost:8080/"
        }
      },
      "outputs": [
        {
          "output_type": "execute_result",
          "data": {
            "text/plain": [
              "Index(['median_house_value', 'median_income', 'housing_median_age',\n",
              "       'total_rooms', 'total_bedrooms', 'population', 'households', 'latitude',\n",
              "       'longitude'],\n",
              "      dtype='object')"
            ]
          },
          "metadata": {},
          "execution_count": 111
        }
      ],
      "source": [
        "houses.columns"
      ]
    },
    {
      "cell_type": "markdown",
      "metadata": {
        "id": "oHqq_2zcUbKh"
      },
      "source": [
        "### plotting utility"
      ]
    },
    {
      "cell_type": "code",
      "execution_count": 112,
      "metadata": {
        "id": "lFkFk28aUbKk"
      },
      "outputs": [],
      "source": [
        "import matplotlib.pyplot as plt\n",
        "import numpy as np\n",
        "from math import ceil\n",
        "\n",
        "##\n",
        "## use this utility to produce boxplots and density plots for the features in your dataset\n",
        "## type= {boxplot, kdeplot, histogram}\n",
        "##\n",
        "\n",
        "\n",
        "def plot_distributions(data, columns, type='boxplot', title=None):\n",
        "\n",
        "    print(\"plotting columns {c}\".format(c=list(columns)))\n",
        "    \n",
        "    if type not in {'boxplot', 'dkeplot', 'histplot'}:\n",
        "        print(\"only type= {boxplot, dkeplot, histplot} are supported\")\n",
        "        return\n",
        "\n",
        "    ## grid size depends on number of columns\n",
        "    ## max 4 columns in the grid\n",
        "    maxCols  = 3\n",
        "    \n",
        "    if len(columns) <3:\n",
        "        numCols = len(columns)\n",
        "    else:\n",
        "        numCols = maxCols\n",
        "    numRows = ceil(len(columns) / 3)\n",
        "    \n",
        "    print(len(columns))\n",
        "    print('{r}x{c} subplots'.format(r=numRows, c=numCols))\n",
        "\n",
        "    fig, axs = plt.subplots(numRows, numCols)\n",
        "    fig.suptitle(title)\n",
        "    fig.set_figwidth(5*numCols)\n",
        "    fig.set_figheight(3*numCols)\n",
        "    fig.tight_layout(pad=5.0)\n",
        "\n",
        "    i=j=0\n",
        "    \n",
        "    for c in columns:\n",
        "        if type == 'boxplot':\n",
        "            sns.boxplot(data=data, x=c, ax=axs[i,j])\n",
        "        elif type == 'histplot':\n",
        "            sns.histplot(data=data, x=c, ax=axs[i,j])\n",
        "        else:\n",
        "            sns.kdeplot(data=data, x=c, ax=axs[i,j])\n",
        "\n",
        "        axs[i,j].set_title(c)\n",
        "        j = j+1\n",
        "        if j == 3:\n",
        "            i = i+1\n",
        "            j= 0\n"
      ]
    },
    {
      "cell_type": "markdown",
      "metadata": {
        "id": "7unbeKzWUbKl"
      },
      "source": [
        "### Descriptive analytics: start by looking at raw statistics for the features in this dataset. what sort of story are they telling?"
      ]
    },
    {
      "cell_type": "markdown",
      "metadata": {
        "id": "srn4-KwWUbKm"
      },
      "source": [
        "feel free to use the plot utility defined above"
      ]
    },
    {
      "cell_type": "code",
      "execution_count": 113,
      "metadata": {
        "id": "xKOFqVZjUbKm",
        "colab": {
          "base_uri": "https://localhost:8080/",
          "height": 682
        },
        "outputId": "e4d363ca-5013-438d-a0ed-6be3229091b5"
      },
      "outputs": [
        {
          "output_type": "stream",
          "name": "stdout",
          "text": [
            "plotting columns ['median_house_value', 'median_income', 'housing_median_age', 'total_rooms', 'total_bedrooms', 'population', 'households', 'latitude', 'longitude']\n",
            "9\n",
            "3x3 subplots\n"
          ]
        },
        {
          "output_type": "display_data",
          "data": {
            "text/plain": [
              "<Figure size 1080x648 with 9 Axes>"
            ],
            "image/png": "[encoded data removed]"
          },
          "metadata": {
            "needs_background": "light"
          }
        }
      ],
      "source": [
        "## your code here\n",
        "\n",
        "plot_distributions(houses, houses.columns, type = 'boxplot', title = 'perhaps')"
      ]
    },
    {
      "cell_type": "code",
      "source": [
        "houses.columns"
      ],
      "metadata": {
        "colab": {
          "base_uri": "https://localhost:8080/"
        },
        "id": "Y5yaFWqPOiHd",
        "outputId": "ddb9f17a-9e02-4e49-c493-f5e638190a72"
      },
      "execution_count": 114,
      "outputs": [
        {
          "output_type": "execute_result",
          "data": {
            "text/plain": [
              "Index(['median_house_value', 'median_income', 'housing_median_age',\n",
              "       'total_rooms', 'total_bedrooms', 'population', 'households', 'latitude',\n",
              "       'longitude'],\n",
              "      dtype='object')"
            ]
          },
          "metadata": {},
          "execution_count": 114
        }
      ]
    },
    {
      "cell_type": "markdown",
      "metadata": {
        "id": "S1kco2nJUbKn"
      },
      "source": [
        "### feature normalisation \n",
        "\n",
        "Some of the features need to be normalised before any conclusion can be drawn"
      ]
    },
    {
      "cell_type": "code",
      "execution_count": 115,
      "metadata": {
        "id": "dYN6zZwJUbKn",
        "colab": {
          "base_uri": "https://localhost:8080/",
          "height": 683
        },
        "outputId": "dc205230-0918-4090-a3b1-9f2b3584db95"
      },
      "outputs": [
        {
          "output_type": "stream",
          "name": "stdout",
          "text": [
            "plotting columns ['median_house_value', 'median_income', 'housing_median_age', 'total_rooms', 'total_bedrooms', 'population', 'households', 'latitude', 'longitude', 'pop_per_houses', 'bed_per_houses', 'pop_per_bed']\n",
            "12\n",
            "4x3 subplots\n"
          ]
        },
        {
          "output_type": "display_data",
          "data": {
            "text/plain": [
              "<Figure size 1080x648 with 12 Axes>"
            ],
            "image/png": "[encoded data removed]"
          },
          "metadata": {
            "needs_background": "light"
          }
        }
      ],
      "source": [
        "## normalising the features -- your code here\n",
        "\n",
        "#if final value < distance(x)\n",
        "#end graph sooner and zoom in \n",
        "\n",
        "\n",
        "#dividing by something significant so it makes sense\n",
        "#its meant to be simple\n",
        "#so make sure the data makes sense in the context\n",
        "#derivative variables of the columns \n",
        "\n",
        "#if int(houses.columns[3]) > 20:\n",
        "  #print(\"This works yaknow\")\n",
        "#else: \n",
        " # print(\"This didnt work yaknow\")\n",
        "\n",
        " \n",
        "pop_per_house = houses.population / houses.households\n",
        "bed_per_house = houses.total_bedrooms / houses.households\n",
        "pop_per_bed = houses.population / houses.total_bedrooms\n",
        "\n",
        "houses[\"pop_per_houses\"] = pop_per_house\n",
        "houses[\"bed_per_houses\"] = bed_per_house\n",
        "houses[\"pop_per_bed\"] = pop_per_bed\n",
        "\n",
        "plot_distributions(houses, houses.columns, type = 'boxplot', title = 'perhaps')"
      ]
    },
    {
      "cell_type": "markdown",
      "metadata": {
        "id": "QZv6SFinUbKn"
      },
      "source": [
        "### record identification\n",
        "\n",
        "based on analysis of the normalised features, try and pinpoint specific records that may be outliers, and explain why"
      ]
    },
    {
      "cell_type": "code",
      "execution_count": 116,
      "metadata": {
        "id": "kFX4DwNxUbKo",
        "colab": {
          "base_uri": "https://localhost:8080/",
          "height": 822
        },
        "outputId": "575c086c-59ed-45a9-ab9f-fbfbfe337c0e"
      },
      "outputs": [
        {
          "output_type": "stream",
          "name": "stdout",
          "text": [
            "Population per house outliers:  Int64Index([3364, 13034, 16669, 19006], dtype='int64')\n",
            "Bedrooms per house outliers:  Int64Index([ 1024,  1102,  1233,  1234,  1238,  1239,  1240,  1867,  1872,\n",
            "             1889,\n",
            "            ...\n",
            "            19362, 19736, 19802, 19807, 19975, 19976, 19977, 20093, 20094,\n",
            "            20113],\n",
            "           dtype='int64', length=107)\n",
            "Population per bedroom outliers:  Int64Index([3364, 9172, 12104, 13034, 16420, 16669, 19006], dtype='int64')\n",
            "plotting columns ['median_house_value', 'median_income', 'housing_median_age', 'total_rooms', 'total_bedrooms', 'population', 'households', 'latitude', 'longitude', 'pop_per_houses', 'bed_per_houses', 'pop_per_bed']\n",
            "12\n",
            "4x3 subplots\n"
          ]
        },
        {
          "output_type": "display_data",
          "data": {
            "text/plain": [
              "<Figure size 1080x648 with 12 Axes>"
            ],
            "image/png": "[encoded data removed]"
          },
          "metadata": {
            "needs_background": "light"
          }
        }
      ],
      "source": [
        "## your code here \n",
        "\n",
        "pphOutliers = houses[houses[\"pop_per_houses\"] > 100]\n",
        "bphOutliers = houses[houses[\"bed_per_houses\"] > 3]\n",
        "ppbOutliers = houses[houses[\"pop_per_bed\"] > 50]\n",
        "\n",
        "print(\"Population per house outliers: \", pphOutliers.index)\n",
        "print(\"Bedrooms per house outliers: \", bphOutliers.index)\n",
        "print(\"Population per bedroom outliers: \", ppbOutliers.index)\n",
        "\n",
        "\n",
        "#houses = houses.drop(pphOutliers.index)\n",
        "#houses = houses.drop(bphOutliers.index)\n",
        "#houses = houses.drop(ppbOutliers.index)\n",
        "\n",
        "\n",
        "\n",
        "plot_distributions(houses, houses.columns, type = 'boxplot', title = 'Cleaned data')"
      ]
    },
    {
      "cell_type": "code",
      "source": [
        "pphOutliers = houses[houses[\"pop_per_houses\"] > 5]\n",
        "bphOutliers = houses[houses[\"bed_per_houses\"] > 2]\n",
        "ppbOutliers = houses[houses[\"pop_per_bed\"] > 10]\n",
        "\n",
        "print(\"Population per house outliers: \", pphOutliers.index)\n",
        "print(\"Bedrooms per house outliers: \", bphOutliers.index)\n",
        "print(\"Population per bedroom outliers: \", ppbOutliers.index)\n",
        "\n",
        "\n",
        "total_outliers = pphOutliers.count() + bphOutliers.count() + ppbOutliers.count()\n",
        "print(\"Population per house outliers total: \", total_outliers)\n",
        "\n",
        "#houses = houses.drop(pphOutliers.index)\n",
        "#houses = houses.drop(bphOutliers.index)\n",
        "#houses = houses.drop(ppbOutliers.index)\n",
        "\n",
        "\n",
        "\n",
        "plot_distributions(houses, houses.columns, type = 'boxplot', title = 'Cleaned data')"
      ],
      "metadata": {
        "colab": {
          "base_uri": "https://localhost:8080/",
          "height": 1000
        },
        "id": "Ha8y7310VD95",
        "outputId": "1b068849-56c1-4f99-d688-8f812e579729"
      },
      "execution_count": 117,
      "outputs": [
        {
          "output_type": "stream",
          "name": "stdout",
          "text": [
            "Population per house outliers:  Int64Index([   91,    92,   270,   435,   457,   459,   460,   537,  1039,\n",
            "             1067,\n",
            "            ...\n",
            "            20259, 20280, 20297, 20311, 20318, 20324, 20352, 20393, 20513,\n",
            "            20527],\n",
            "           dtype='int64', length=345)\n",
            "Bedrooms per house outliers:  Int64Index([  710,  1023,  1024,  1030,  1102,  1233,  1234,  1235,  1236,\n",
            "             1238,\n",
            "            ...\n",
            "            19975, 19976, 19977, 20089, 20092, 20093, 20094, 20110, 20112,\n",
            "            20113],\n",
            "           dtype='int64', length=235)\n",
            "Population per bedroom outliers:  Int64Index([   91,   270,  1039,  1067,  1617,  2723,  2899,  3364,  4479,\n",
            "             4861,  5985,  5986,  7164,  7165,  8874,  9172, 12104, 12649,\n",
            "            13034, 13366, 13606, 14756, 15790, 16171, 16420, 16528, 16594,\n",
            "            16643, 16669, 16672, 18520, 19006, 19524, 20121, 20352],\n",
            "           dtype='int64')\n",
            "Population per house outliers total:  median_house_value    615\n",
            "median_income         615\n",
            "housing_median_age    615\n",
            "total_rooms           615\n",
            "total_bedrooms        615\n",
            "population            615\n",
            "households            615\n",
            "latitude              615\n",
            "longitude             615\n",
            "pop_per_houses        615\n",
            "bed_per_houses        615\n",
            "pop_per_bed           615\n",
            "dtype: int64\n",
            "plotting columns ['median_house_value', 'median_income', 'housing_median_age', 'total_rooms', 'total_bedrooms', 'population', 'households', 'latitude', 'longitude', 'pop_per_houses', 'bed_per_houses', 'pop_per_bed']\n",
            "12\n",
            "4x3 subplots\n"
          ]
        },
        {
          "output_type": "display_data",
          "data": {
            "text/plain": [
              "<Figure size 1080x648 with 12 Axes>"
            ],
            "image/png": "[encoded data removed]"
          },
          "metadata": {
            "needs_background": "light"
          }
        }
      ]
    },
    {
      "cell_type": "markdown",
      "source": [
        "After analysing the boxplots for a second time, I have removed the populations per households that are greater than 11 as the records are skewed towards 1-5. This allows us to see a lot of the higher than average results while still clearly seeing the median.\n",
        "\n",
        "For bedrooms per household, I have removed all records greater than 3 because a majority of the records have a median average around 1 and so anything in excess of that could be considered anomalous. \n",
        "\n",
        "Finally, I have removed populations per bedrooms greater than 10 because this will allow flat shares to still be considered while showing that the average is still much lower than this. "
      ],
      "metadata": {
        "id": "vMLIHTBJVsbx"
      }
    },
    {
      "cell_type": "markdown",
      "metadata": {
        "id": "FDmzA9dbUbKo"
      },
      "source": [
        "have you completely solved the problem? how do we know for sure?\n",
        "\n",
        "we may have removed too much (FP) or too little (FN). Can you suggest empirical validation of your findings?"
      ]
    },
    {
      "cell_type": "code",
      "execution_count": 118,
      "metadata": {
        "id": "ty0JwRD-UbKo",
        "colab": {
          "base_uri": "https://localhost:8080/"
        },
        "outputId": "65f42b2c-2fbb-40a2-d7c9-2aec3db15465"
      },
      "outputs": [
        {
          "output_type": "stream",
          "name": "stdout",
          "text": [
            "correlations: median value to number of rooms: -0.024, median value to number of bedrooms: -0.047\n"
          ]
        }
      ],
      "source": [
        "corr1 = houses.median_house_value.corr(houses.pop_per_houses)\n",
        "corr2 = houses.median_house_value.corr(houses.bed_per_houses)\n",
        "\n",
        "print(\"correlations: median value to number of rooms: {0:.2}, median value to number of bedrooms: {1:.2}\".format(corr1, corr2))"
      ]
    },
    {
      "cell_type": "markdown",
      "metadata": {
        "id": "qwwhiWtPUbKp"
      },
      "source": [
        "it appears that house value is not strongly correlated with size, so probably location is a more relevant factor"
      ]
    },
    {
      "cell_type": "markdown",
      "metadata": {
        "id": "14n1HNYYUbKp"
      },
      "source": [
        "## next, try using LOF and / or KNN and see if the results align with your empirical analysis"
      ]
    },
    {
      "cell_type": "code",
      "execution_count": 121,
      "metadata": {
        "id": "9vFJey-IUbKp",
        "colab": {
          "base_uri": "https://localhost:8080/",
          "height": 424
        },
        "outputId": "9c48b07d-018f-4cc6-b64a-5e946d24a729"
      },
      "outputs": [
        {
          "output_type": "execute_result",
          "data": {
            "text/plain": [
              "       median_house_value  median_income  housing_median_age  total_rooms  \\\n",
              "59                60000.0         2.5625                 2.0        158.0   \n",
              "73                67500.0         0.4999                46.0         12.0   \n",
              "140              483300.0         6.3624                30.0        292.0   \n",
              "192               75000.0         2.1000                51.0        175.0   \n",
              "700              340000.0         6.5000                20.0        200.0   \n",
              "...                   ...            ...                 ...          ...   \n",
              "20311            243800.0         2.0368                37.0        470.0   \n",
              "20322            500001.0         2.5714                 8.0        243.0   \n",
              "20349            125000.0         7.3004                32.0        166.0   \n",
              "20352             52500.0         4.0208                 8.0         40.0   \n",
              "20353            275000.0         5.0066                12.0         57.0   \n",
              "\n",
              "       total_bedrooms  population  households  latitude  longitude  \\\n",
              "59               43.0        94.0        57.0     37.82    -122.29   \n",
              "73                4.0        18.0         7.0     37.81    -122.29   \n",
              "140              38.0       126.0        52.0     37.81    -122.18   \n",
              "192              43.0       228.0        55.0     37.79    -122.25   \n",
              "700              25.0        83.0        31.0     37.69    -122.03   \n",
              "...               ...         ...         ...       ...        ...   \n",
              "20311           105.0       522.0        83.0     34.17    -119.11   \n",
              "20322            75.0       102.0        80.0     34.23    -119.14   \n",
              "20349            22.0        63.0        29.0     34.17    -119.08   \n",
              "20352            10.0       309.0        16.0     34.22    -119.09   \n",
              "20353            22.0        69.0        15.0     34.13    -119.05   \n",
              "\n",
              "       pop_per_houses  bed_per_houses  pop_per_bed  \n",
              "59           1.649123        0.754386     2.186047  \n",
              "73           2.571429        0.571429     4.500000  \n",
              "140          2.423077        0.730769     3.315789  \n",
              "192          4.145455        0.781818     5.302326  \n",
              "700          2.677419        0.806452     3.320000  \n",
              "...               ...             ...          ...  \n",
              "20311        6.289157        1.265060     4.971429  \n",
              "20322        1.275000        0.937500     1.360000  \n",
              "20349        2.172414        0.758621     2.863636  \n",
              "20352       19.312500        0.625000    30.900000  \n",
              "20353        4.600000        1.466667     3.136364  \n",
              "\n",
              "[192 rows x 12 columns]"
            ],
            "text/html": [
              "\n",
              "  <div id=\"df-afa78dbb-403f-4e22-a886-23feaabb892d\">\n",
              "    <div class=\"colab-df-container\">\n",
              "      <div>\n",
              "<style scoped>\n",
              "    .dataframe tbody tr th:only-of-type {\n",
              "        vertical-align: middle;\n",
              "    }\n",
              "\n",
              "    .dataframe tbody tr th {\n",
              "        vertical-align: top;\n",
              "    }\n",
              "\n",
              "    .dataframe thead th {\n",
              "        text-align: right;\n",
              "    }\n",
              "</style>\n",
              "<table border=\"1\" class=\"dataframe\">\n",
              "  <thead>\n",
              "    <tr style=\"text-align: right;\">\n",
              "      <th></th>\n",
              "      <th>median_house_value</th>\n",
              "      <th>median_income</th>\n",
              "      <th>housing_median_age</th>\n",
              "      <th>total_rooms</th>\n",
              "      <th>total_bedrooms</th>\n",
              "      <th>population</th>\n",
              "      <th>households</th>\n",
              "      <th>latitude</th>\n",
              "      <th>longitude</th>\n",
              "      <th>pop_per_houses</th>\n",
              "      <th>bed_per_houses</th>\n",
              "      <th>pop_per_bed</th>\n",
              "    </tr>\n",
              "  </thead>\n",
              "  <tbody>\n",
              "    <tr>\n",
              "      <th>59</th>\n",
              "      <td>60000.0</td>\n",
              "      <td>2.5625</td>\n",
              "      <td>2.0</td>\n",
              "      <td>158.0</td>\n",
              "      <td>43.0</td>\n",
              "      <td>94.0</td>\n",
              "      <td>57.0</td>\n",
              "      <td>37.82</td>\n",
              "      <td>-122.29</td>\n",
              "      <td>1.649123</td>\n",
              "      <td>0.754386</td>\n",
              "      <td>2.186047</td>\n",
              "    </tr>\n",
              "    <tr>\n",
              "      <th>73</th>\n",
              "      <td>67500.0</td>\n",
              "      <td>0.4999</td>\n",
              "      <td>46.0</td>\n",
              "      <td>12.0</td>\n",
              "      <td>4.0</td>\n",
              "      <td>18.0</td>\n",
              "      <td>7.0</td>\n",
              "      <td>37.81</td>\n",
              "      <td>-122.29</td>\n",
              "      <td>2.571429</td>\n",
              "      <td>0.571429</td>\n",
              "      <td>4.500000</td>\n",
              "    </tr>\n",
              "    <tr>\n",
              "      <th>140</th>\n",
              "      <td>483300.0</td>\n",
              "      <td>6.3624</td>\n",
              "      <td>30.0</td>\n",
              "      <td>292.0</td>\n",
              "      <td>38.0</td>\n",
              "      <td>126.0</td>\n",
              "      <td>52.0</td>\n",
              "      <td>37.81</td>\n",
              "      <td>-122.18</td>\n",
              "      <td>2.423077</td>\n",
              "      <td>0.730769</td>\n",
              "      <td>3.315789</td>\n",
              "    </tr>\n",
              "    <tr>\n",
              "      <th>192</th>\n",
              "      <td>75000.0</td>\n",
              "      <td>2.1000</td>\n",
              "      <td>51.0</td>\n",
              "      <td>175.0</td>\n",
              "      <td>43.0</td>\n",
              "      <td>228.0</td>\n",
              "      <td>55.0</td>\n",
              "      <td>37.79</td>\n",
              "      <td>-122.25</td>\n",
              "      <td>4.145455</td>\n",
              "      <td>0.781818</td>\n",
              "      <td>5.302326</td>\n",
              "    </tr>\n",
              "    <tr>\n",
              "      <th>700</th>\n",
              "      <td>340000.0</td>\n",
              "      <td>6.5000</td>\n",
              "      <td>20.0</td>\n",
              "      <td>200.0</td>\n",
              "      <td>25.0</td>\n",
              "      <td>83.0</td>\n",
              "      <td>31.0</td>\n",
              "      <td>37.69</td>\n",
              "      <td>-122.03</td>\n",
              "      <td>2.677419</td>\n",
              "      <td>0.806452</td>\n",
              "      <td>3.320000</td>\n",
              "    </tr>\n",
              "    <tr>\n",
              "      <th>...</th>\n",
              "      <td>...</td>\n",
              "      <td>...</td>\n",
              "      <td>...</td>\n",
              "      <td>...</td>\n",
              "      <td>...</td>\n",
              "      <td>...</td>\n",
              "      <td>...</td>\n",
              "      <td>...</td>\n",
              "      <td>...</td>\n",
              "      <td>...</td>\n",
              "      <td>...</td>\n",
              "      <td>...</td>\n",
              "    </tr>\n",
              "    <tr>\n",
              "      <th>20311</th>\n",
              "      <td>243800.0</td>\n",
              "      <td>2.0368</td>\n",
              "      <td>37.0</td>\n",
              "      <td>470.0</td>\n",
              "      <td>105.0</td>\n",
              "      <td>522.0</td>\n",
              "      <td>83.0</td>\n",
              "      <td>34.17</td>\n",
              "      <td>-119.11</td>\n",
              "      <td>6.289157</td>\n",
              "      <td>1.265060</td>\n",
              "      <td>4.971429</td>\n",
              "    </tr>\n",
              "    <tr>\n",
              "      <th>20322</th>\n",
              "      <td>500001.0</td>\n",
              "      <td>2.5714</td>\n",
              "      <td>8.0</td>\n",
              "      <td>243.0</td>\n",
              "      <td>75.0</td>\n",
              "      <td>102.0</td>\n",
              "      <td>80.0</td>\n",
              "      <td>34.23</td>\n",
              "      <td>-119.14</td>\n",
              "      <td>1.275000</td>\n",
              "      <td>0.937500</td>\n",
              "      <td>1.360000</td>\n",
              "    </tr>\n",
              "    <tr>\n",
              "      <th>20349</th>\n",
              "      <td>125000.0</td>\n",
              "      <td>7.3004</td>\n",
              "      <td>32.0</td>\n",
              "      <td>166.0</td>\n",
              "      <td>22.0</td>\n",
              "      <td>63.0</td>\n",
              "      <td>29.0</td>\n",
              "      <td>34.17</td>\n",
              "      <td>-119.08</td>\n",
              "      <td>2.172414</td>\n",
              "      <td>0.758621</td>\n",
              "      <td>2.863636</td>\n",
              "    </tr>\n",
              "    <tr>\n",
              "      <th>20352</th>\n",
              "      <td>52500.0</td>\n",
              "      <td>4.0208</td>\n",
              "      <td>8.0</td>\n",
              "      <td>40.0</td>\n",
              "      <td>10.0</td>\n",
              "      <td>309.0</td>\n",
              "      <td>16.0</td>\n",
              "      <td>34.22</td>\n",
              "      <td>-119.09</td>\n",
              "      <td>19.312500</td>\n",
              "      <td>0.625000</td>\n",
              "      <td>30.900000</td>\n",
              "    </tr>\n",
              "    <tr>\n",
              "      <th>20353</th>\n",
              "      <td>275000.0</td>\n",
              "      <td>5.0066</td>\n",
              "      <td>12.0</td>\n",
              "      <td>57.0</td>\n",
              "      <td>22.0</td>\n",
              "      <td>69.0</td>\n",
              "      <td>15.0</td>\n",
              "      <td>34.13</td>\n",
              "      <td>-119.05</td>\n",
              "      <td>4.600000</td>\n",
              "      <td>1.466667</td>\n",
              "      <td>3.136364</td>\n",
              "    </tr>\n",
              "  </tbody>\n",
              "</table>\n",
              "<p>192 rows × 12 columns</p>\n",
              "</div>\n",
              "      <button class=\"colab-df-convert\" onclick=\"convertToInteractive('df-afa78dbb-403f-4e22-a886-23feaabb892d')\"\n",
              "              title=\"Convert this dataframe to an interactive table.\"\n",
              "              style=\"display:none;\">\n",
              "        \n",
              "  <svg xmlns=\"http://www.w3.org/2000/svg\" height=\"24px\"viewBox=\"0 0 24 24\"\n",
              "       width=\"24px\">\n",
              "    <path d=\"M0 0h24v24H0V0z\" fill=\"none\"/>\n",
              "    <path d=\"M18.56 5.44l.94 2.06.94-2.06 2.06-.94-2.06-.94-.94-2.06-.94 2.06-2.06.94zm-11 1L8.5 8.5l.94-2.06 2.06-.94-2.06-.94L8.5 2.5l-.94 2.06-2.06.94zm10 10l.94 2.06.94-2.06 2.06-.94-2.06-.94-.94-2.06-.94 2.06-2.06.94z\"/><path d=\"M17.41 7.96l-1.37-1.37c-.4-.4-.92-.59-1.43-.59-.52 0-1.04.2-1.43.59L10.3 9.45l-7.72 7.72c-.78.78-.78 2.05 0 2.83L4 21.41c.39.39.9.59 1.41.59.51 0 1.02-.2 1.41-.59l7.78-7.78 2.81-2.81c.8-.78.8-2.07 0-2.86zM5.41 20L4 18.59l7.72-7.72 1.47 1.35L5.41 20z\"/>\n",
              "  </svg>\n",
              "      </button>\n",
              "      \n",
              "  <style>\n",
              "    .colab-df-container {\n",
              "      display:flex;\n",
              "      flex-wrap:wrap;\n",
              "      gap: 12px;\n",
              "    }\n",
              "\n",
              "    .colab-df-convert {\n",
              "      background-color: #E8F0FE;\n",
              "      border: none;\n",
              "      border-radius: 50%;\n",
              "      cursor: pointer;\n",
              "      display: none;\n",
              "      fill: #1967D2;\n",
              "      height: 32px;\n",
              "      padding: 0 0 0 0;\n",
              "      width: 32px;\n",
              "    }\n",
              "\n",
              "    .colab-df-convert:hover {\n",
              "      background-color: #E2EBFA;\n",
              "      box-shadow: 0px 1px 2px rgba(60, 64, 67, 0.3), 0px 1px 3px 1px rgba(60, 64, 67, 0.15);\n",
              "      fill: #174EA6;\n",
              "    }\n",
              "\n",
              "    [theme=dark] .colab-df-convert {\n",
              "      background-color: #3B4455;\n",
              "      fill: #D2E3FC;\n",
              "    }\n",
              "\n",
              "    [theme=dark] .colab-df-convert:hover {\n",
              "      background-color: #434B5C;\n",
              "      box-shadow: 0px 1px 3px 1px rgba(0, 0, 0, 0.15);\n",
              "      filter: drop-shadow(0px 1px 2px rgba(0, 0, 0, 0.3));\n",
              "      fill: #FFFFFF;\n",
              "    }\n",
              "  </style>\n",
              "\n",
              "      <script>\n",
              "        const buttonEl =\n",
              "          document.querySelector('#df-afa78dbb-403f-4e22-a886-23feaabb892d button.colab-df-convert');\n",
              "        buttonEl.style.display =\n",
              "          google.colab.kernel.accessAllowed ? 'block' : 'none';\n",
              "\n",
              "        async function convertToInteractive(key) {\n",
              "          const element = document.querySelector('#df-afa78dbb-403f-4e22-a886-23feaabb892d');\n",
              "          const dataTable =\n",
              "            await google.colab.kernel.invokeFunction('convertToInteractive',\n",
              "                                                     [key], {});\n",
              "          if (!dataTable) return;\n",
              "\n",
              "          const docLinkHtml = 'Like what you see? Visit the ' +\n",
              "            '<a target=\"_blank\" href=https://colab.research.google.com/notebooks/data_table.ipynb>data table notebook</a>'\n",
              "            + ' to learn more about interactive tables.';\n",
              "          element.innerHTML = '';\n",
              "          dataTable['output_type'] = 'display_data';\n",
              "          await google.colab.output.renderOutput(dataTable, element);\n",
              "          const docLink = document.createElement('div');\n",
              "          docLink.innerHTML = docLinkHtml;\n",
              "          element.appendChild(docLink);\n",
              "        }\n",
              "      </script>\n",
              "    </div>\n",
              "  </div>\n",
              "  "
            ]
          },
          "metadata": {},
          "execution_count": 121
        }
      ],
      "source": [
        "from sklearn.neighbors import LocalOutlierFactor\n",
        "\n",
        "clf_data = houses[['pop_per_houses', 'bed_per_houses', 'pop_per_bed']]\n",
        "#clf_data = houses\n",
        "\n",
        "clf = LocalOutlierFactor(n_neighbors=20)\n",
        "result = clf.fit_predict(clf_data)\n",
        "\n",
        "outlier_index_lof = np.where(result == -1)\n",
        "outlier_values_lof = houses.iloc[outlier_index_lof]\n",
        "outlier_values_lof"
      ]
    },
    {
      "cell_type": "markdown",
      "source": [
        "# KNN"
      ],
      "metadata": {
        "id": "ckRjc9oN-4YY"
      }
    },
    {
      "cell_type": "code",
      "source": [
        "from sklearn.neighbors import NearestNeighbors\n",
        "\n",
        "\n",
        "knn_data = houses[['pop_per_houses', 'bed_per_houses', 'pop_per_bed']]\n",
        "\n",
        "\n",
        "X = knn_data.values\n",
        "\n",
        "knn = NearestNeighbors(n_neighbors=20)\n",
        "knn.fit(X)\n",
        "distance, index = knn.kneighbors(X)\n",
        "\n",
        "outlier_index_knn = np.where(distance.mean(axis=1) > 0.5)\n",
        "outlier_values_knn = houses.iloc[outlier_index_knn]\n",
        "outlier_values_knn"
      ],
      "metadata": {
        "colab": {
          "base_uri": "https://localhost:8080/",
          "height": 424
        },
        "id": "z_tMJcyP-64w",
        "outputId": "f82b1a50-054d-4eca-945e-8ba4bd07cc5a"
      },
      "execution_count": 120,
      "outputs": [
        {
          "output_type": "execute_result",
          "data": {
            "text/plain": [
              "       median_house_value  median_income  housing_median_age  total_rooms  \\\n",
              "73                67500.0         0.4999                46.0         12.0   \n",
              "91               137500.0         0.8668                52.0        215.0   \n",
              "270              225000.0         3.8750                33.0        142.0   \n",
              "460              175000.0         1.4012                52.0       1087.0   \n",
              "1039             121900.0         4.3029                16.0       1748.0   \n",
              "...                   ...            ...                 ...          ...   \n",
              "20248            275000.0         8.0000                28.0         26.0   \n",
              "20311            243800.0         2.0368                37.0        470.0   \n",
              "20324            194100.0         3.5625                31.0        737.0   \n",
              "20352             52500.0         4.0208                 8.0         40.0   \n",
              "20527            310000.0         1.4653                 7.0       1777.0   \n",
              "\n",
              "       total_bedrooms  population  households  latitude  longitude  \\\n",
              "73                4.0        18.0         7.0     37.81    -122.29   \n",
              "91               87.0       904.0        88.0     37.80    -122.28   \n",
              "270              31.0       575.0        47.0     37.78    -122.18   \n",
              "460             371.0      3337.0       350.0     37.87    -122.26   \n",
              "1039            322.0      4930.0       287.0     38.42    -120.97   \n",
              "...               ...         ...         ...       ...        ...   \n",
              "20248             3.0        29.0         9.0     34.25    -119.23   \n",
              "20311           105.0       522.0        83.0     34.17    -119.11   \n",
              "20324           146.0      1436.0       168.0     34.25    -119.12   \n",
              "20352            10.0       309.0        16.0     34.22    -119.09   \n",
              "20527           513.0      4479.0       504.0     38.54    -121.79   \n",
              "\n",
              "       pop_per_houses  bed_per_houses  pop_per_bed  \n",
              "73           2.571429        0.571429     4.500000  \n",
              "91          10.272727        0.988636    10.390805  \n",
              "270         12.234043        0.659574    18.548387  \n",
              "460          9.534286        1.060000     8.994609  \n",
              "1039        17.177700        1.121951    15.310559  \n",
              "...               ...             ...          ...  \n",
              "20248        3.222222        0.333333     9.666667  \n",
              "20311        6.289157        1.265060     4.971429  \n",
              "20324        8.547619        0.869048     9.835616  \n",
              "20352       19.312500        0.625000    30.900000  \n",
              "20527        8.886905        1.017857     8.730994  \n",
              "\n",
              "[155 rows x 12 columns]"
            ],
            "text/html": [
              "\n",
              "  <div id=\"df-a3bf2f41-b519-4660-a7f3-ba733cec6883\">\n",
              "    <div class=\"colab-df-container\">\n",
              "      <div>\n",
              "<style scoped>\n",
              "    .dataframe tbody tr th:only-of-type {\n",
              "        vertical-align: middle;\n",
              "    }\n",
              "\n",
              "    .dataframe tbody tr th {\n",
              "        vertical-align: top;\n",
              "    }\n",
              "\n",
              "    .dataframe thead th {\n",
              "        text-align: right;\n",
              "    }\n",
              "</style>\n",
              "<table border=\"1\" class=\"dataframe\">\n",
              "  <thead>\n",
              "    <tr style=\"text-align: right;\">\n",
              "      <th></th>\n",
              "      <th>median_house_value</th>\n",
              "      <th>median_income</th>\n",
              "      <th>housing_median_age</th>\n",
              "      <th>total_rooms</th>\n",
              "      <th>total_bedrooms</th>\n",
              "      <th>population</th>\n",
              "      <th>households</th>\n",
              "      <th>latitude</th>\n",
              "      <th>longitude</th>\n",
              "      <th>pop_per_houses</th>\n",
              "      <th>bed_per_houses</th>\n",
              "      <th>pop_per_bed</th>\n",
              "    </tr>\n",
              "  </thead>\n",
              "  <tbody>\n",
              "    <tr>\n",
              "      <th>73</th>\n",
              "      <td>67500.0</td>\n",
              "      <td>0.4999</td>\n",
              "      <td>46.0</td>\n",
              "      <td>12.0</td>\n",
              "      <td>4.0</td>\n",
              "      <td>18.0</td>\n",
              "      <td>7.0</td>\n",
              "      <td>37.81</td>\n",
              "      <td>-122.29</td>\n",
              "      <td>2.571429</td>\n",
              "      <td>0.571429</td>\n",
              "      <td>4.500000</td>\n",
              "    </tr>\n",
              "    <tr>\n",
              "      <th>91</th>\n",
              "      <td>137500.0</td>\n",
              "      <td>0.8668</td>\n",
              "      <td>52.0</td>\n",
              "      <td>215.0</td>\n",
              "      <td>87.0</td>\n",
              "      <td>904.0</td>\n",
              "      <td>88.0</td>\n",
              "      <td>37.80</td>\n",
              "      <td>-122.28</td>\n",
              "      <td>10.272727</td>\n",
              "      <td>0.988636</td>\n",
              "      <td>10.390805</td>\n",
              "    </tr>\n",
              "    <tr>\n",
              "      <th>270</th>\n",
              "      <td>225000.0</td>\n",
              "      <td>3.8750</td>\n",
              "      <td>33.0</td>\n",
              "      <td>142.0</td>\n",
              "      <td>31.0</td>\n",
              "      <td>575.0</td>\n",
              "      <td>47.0</td>\n",
              "      <td>37.78</td>\n",
              "      <td>-122.18</td>\n",
              "      <td>12.234043</td>\n",
              "      <td>0.659574</td>\n",
              "      <td>18.548387</td>\n",
              "    </tr>\n",
              "    <tr>\n",
              "      <th>460</th>\n",
              "      <td>175000.0</td>\n",
              "      <td>1.4012</td>\n",
              "      <td>52.0</td>\n",
              "      <td>1087.0</td>\n",
              "      <td>371.0</td>\n",
              "      <td>3337.0</td>\n",
              "      <td>350.0</td>\n",
              "      <td>37.87</td>\n",
              "      <td>-122.26</td>\n",
              "      <td>9.534286</td>\n",
              "      <td>1.060000</td>\n",
              "      <td>8.994609</td>\n",
              "    </tr>\n",
              "    <tr>\n",
              "      <th>1039</th>\n",
              "      <td>121900.0</td>\n",
              "      <td>4.3029</td>\n",
              "      <td>16.0</td>\n",
              "      <td>1748.0</td>\n",
              "      <td>322.0</td>\n",
              "      <td>4930.0</td>\n",
              "      <td>287.0</td>\n",
              "      <td>38.42</td>\n",
              "      <td>-120.97</td>\n",
              "      <td>17.177700</td>\n",
              "      <td>1.121951</td>\n",
              "      <td>15.310559</td>\n",
              "    </tr>\n",
              "    <tr>\n",
              "      <th>...</th>\n",
              "      <td>...</td>\n",
              "      <td>...</td>\n",
              "      <td>...</td>\n",
              "      <td>...</td>\n",
              "      <td>...</td>\n",
              "      <td>...</td>\n",
              "      <td>...</td>\n",
              "      <td>...</td>\n",
              "      <td>...</td>\n",
              "      <td>...</td>\n",
              "      <td>...</td>\n",
              "      <td>...</td>\n",
              "    </tr>\n",
              "    <tr>\n",
              "      <th>20248</th>\n",
              "      <td>275000.0</td>\n",
              "      <td>8.0000</td>\n",
              "      <td>28.0</td>\n",
              "      <td>26.0</td>\n",
              "      <td>3.0</td>\n",
              "      <td>29.0</td>\n",
              "      <td>9.0</td>\n",
              "      <td>34.25</td>\n",
              "      <td>-119.23</td>\n",
              "      <td>3.222222</td>\n",
              "      <td>0.333333</td>\n",
              "      <td>9.666667</td>\n",
              "    </tr>\n",
              "    <tr>\n",
              "      <th>20311</th>\n",
              "      <td>243800.0</td>\n",
              "      <td>2.0368</td>\n",
              "      <td>37.0</td>\n",
              "      <td>470.0</td>\n",
              "      <td>105.0</td>\n",
              "      <td>522.0</td>\n",
              "      <td>83.0</td>\n",
              "      <td>34.17</td>\n",
              "      <td>-119.11</td>\n",
              "      <td>6.289157</td>\n",
              "      <td>1.265060</td>\n",
              "      <td>4.971429</td>\n",
              "    </tr>\n",
              "    <tr>\n",
              "      <th>20324</th>\n",
              "      <td>194100.0</td>\n",
              "      <td>3.5625</td>\n",
              "      <td>31.0</td>\n",
              "      <td>737.0</td>\n",
              "      <td>146.0</td>\n",
              "      <td>1436.0</td>\n",
              "      <td>168.0</td>\n",
              "      <td>34.25</td>\n",
              "      <td>-119.12</td>\n",
              "      <td>8.547619</td>\n",
              "      <td>0.869048</td>\n",
              "      <td>9.835616</td>\n",
              "    </tr>\n",
              "    <tr>\n",
              "      <th>20352</th>\n",
              "      <td>52500.0</td>\n",
              "      <td>4.0208</td>\n",
              "      <td>8.0</td>\n",
              "      <td>40.0</td>\n",
              "      <td>10.0</td>\n",
              "      <td>309.0</td>\n",
              "      <td>16.0</td>\n",
              "      <td>34.22</td>\n",
              "      <td>-119.09</td>\n",
              "      <td>19.312500</td>\n",
              "      <td>0.625000</td>\n",
              "      <td>30.900000</td>\n",
              "    </tr>\n",
              "    <tr>\n",
              "      <th>20527</th>\n",
              "      <td>310000.0</td>\n",
              "      <td>1.4653</td>\n",
              "      <td>7.0</td>\n",
              "      <td>1777.0</td>\n",
              "      <td>513.0</td>\n",
              "      <td>4479.0</td>\n",
              "      <td>504.0</td>\n",
              "      <td>38.54</td>\n",
              "      <td>-121.79</td>\n",
              "      <td>8.886905</td>\n",
              "      <td>1.017857</td>\n",
              "      <td>8.730994</td>\n",
              "    </tr>\n",
              "  </tbody>\n",
              "</table>\n",
              "<p>155 rows × 12 columns</p>\n",
              "</div>\n",
              "      <button class=\"colab-df-convert\" onclick=\"convertToInteractive('df-a3bf2f41-b519-4660-a7f3-ba733cec6883')\"\n",
              "              title=\"Convert this dataframe to an interactive table.\"\n",
              "              style=\"display:none;\">\n",
              "        \n",
              "  <svg xmlns=\"http://www.w3.org/2000/svg\" height=\"24px\"viewBox=\"0 0 24 24\"\n",
              "       width=\"24px\">\n",
              "    <path d=\"M0 0h24v24H0V0z\" fill=\"none\"/>\n",
              "    <path d=\"M18.56 5.44l.94 2.06.94-2.06 2.06-.94-2.06-.94-.94-2.06-.94 2.06-2.06.94zm-11 1L8.5 8.5l.94-2.06 2.06-.94-2.06-.94L8.5 2.5l-.94 2.06-2.06.94zm10 10l.94 2.06.94-2.06 2.06-.94-2.06-.94-.94-2.06-.94 2.06-2.06.94z\"/><path d=\"M17.41 7.96l-1.37-1.37c-.4-.4-.92-.59-1.43-.59-.52 0-1.04.2-1.43.59L10.3 9.45l-7.72 7.72c-.78.78-.78 2.05 0 2.83L4 21.41c.39.39.9.59 1.41.59.51 0 1.02-.2 1.41-.59l7.78-7.78 2.81-2.81c.8-.78.8-2.07 0-2.86zM5.41 20L4 18.59l7.72-7.72 1.47 1.35L5.41 20z\"/>\n",
              "  </svg>\n",
              "      </button>\n",
              "      \n",
              "  <style>\n",
              "    .colab-df-container {\n",
              "      display:flex;\n",
              "      flex-wrap:wrap;\n",
              "      gap: 12px;\n",
              "    }\n",
              "\n",
              "    .colab-df-convert {\n",
              "      background-color: #E8F0FE;\n",
              "      border: none;\n",
              "      border-radius: 50%;\n",
              "      cursor: pointer;\n",
              "      display: none;\n",
              "      fill: #1967D2;\n",
              "      height: 32px;\n",
              "      padding: 0 0 0 0;\n",
              "      width: 32px;\n",
              "    }\n",
              "\n",
              "    .colab-df-convert:hover {\n",
              "      background-color: #E2EBFA;\n",
              "      box-shadow: 0px 1px 2px rgba(60, 64, 67, 0.3), 0px 1px 3px 1px rgba(60, 64, 67, 0.15);\n",
              "      fill: #174EA6;\n",
              "    }\n",
              "\n",
              "    [theme=dark] .colab-df-convert {\n",
              "      background-color: #3B4455;\n",
              "      fill: #D2E3FC;\n",
              "    }\n",
              "\n",
              "    [theme=dark] .colab-df-convert:hover {\n",
              "      background-color: #434B5C;\n",
              "      box-shadow: 0px 1px 3px 1px rgba(0, 0, 0, 0.15);\n",
              "      filter: drop-shadow(0px 1px 2px rgba(0, 0, 0, 0.3));\n",
              "      fill: #FFFFFF;\n",
              "    }\n",
              "  </style>\n",
              "\n",
              "      <script>\n",
              "        const buttonEl =\n",
              "          document.querySelector('#df-a3bf2f41-b519-4660-a7f3-ba733cec6883 button.colab-df-convert');\n",
              "        buttonEl.style.display =\n",
              "          google.colab.kernel.accessAllowed ? 'block' : 'none';\n",
              "\n",
              "        async function convertToInteractive(key) {\n",
              "          const element = document.querySelector('#df-a3bf2f41-b519-4660-a7f3-ba733cec6883');\n",
              "          const dataTable =\n",
              "            await google.colab.kernel.invokeFunction('convertToInteractive',\n",
              "                                                     [key], {});\n",
              "          if (!dataTable) return;\n",
              "\n",
              "          const docLinkHtml = 'Like what you see? Visit the ' +\n",
              "            '<a target=\"_blank\" href=https://colab.research.google.com/notebooks/data_table.ipynb>data table notebook</a>'\n",
              "            + ' to learn more about interactive tables.';\n",
              "          element.innerHTML = '';\n",
              "          dataTable['output_type'] = 'display_data';\n",
              "          await google.colab.output.renderOutput(dataTable, element);\n",
              "          const docLink = document.createElement('div');\n",
              "          docLink.innerHTML = docLinkHtml;\n",
              "          element.appendChild(docLink);\n",
              "        }\n",
              "      </script>\n",
              "    </div>\n",
              "  </div>\n",
              "  "
            ]
          },
          "metadata": {},
          "execution_count": 120
        }
      ]
    },
    {
      "cell_type": "markdown",
      "metadata": {
        "id": "s0OwLc3QUbKq"
      },
      "source": [
        "## Your overall conclusions here"
      ]
    },
    {
      "cell_type": "markdown",
      "source": [
        "My initial data analysis fielded what I considered to be 615 total outliers when considering the normalised data fields of population per household, bedrooms per household, and population per bedrooms. Just from looking at the histograms, I would have considered this a fair result - however, when compared to the results for the outlier detecting algorithms, this is much more than it actually is. LOF found 192 outliers, and KNN found 155. As these two numbers are quite close to each other (when considering the 20,000+ dataframe), it would be fair for me to consider this a much more accurate amount of outliers than my own. \n",
        "\n",
        "A simple reason for the significant differences between the results is mine rely on what I would personally conisder an outlier when thinking about houses in general, whereas both of the algorithms are only affected by the data that they have and so are entirely impartial and truthful. I can conclude that it is always better to use the algorithms rather than human judgement, especially when conisdering data that relies on being accurate to a specific region.   "
      ],
      "metadata": {
        "id": "J9v-5fVPIGr5"
      }
    }
  ],
  "metadata": {
    "kernelspec": {
      "display_name": "Python 3",
      "language": "python",
      "name": "python3"
    },
    "language_info": {
      "codemirror_mode": {
        "name": "ipython",
        "version": 3
      },
      "file_extension": ".py",
      "mimetype": "text/x-python",
      "name": "python",
      "nbconvert_exporter": "python",
      "pygments_lexer": "ipython3",
      "version": "3.8.3"
    },
    "colab": {
      "provenance": []
    }
  },
  "nbformat": 4,
  "nbformat_minor": 0
}